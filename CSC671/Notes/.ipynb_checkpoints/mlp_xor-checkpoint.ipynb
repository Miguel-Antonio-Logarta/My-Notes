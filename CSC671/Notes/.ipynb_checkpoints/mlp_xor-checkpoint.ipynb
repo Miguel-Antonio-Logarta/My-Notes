{
 "cells": [
  {
   "cell_type": "markdown",
   "id": "7a9d98bc-acd3-47a6-9bcf-dc019de867b2",
   "metadata": {},
   "source": [
    "# Multi-Layer Perceptron for classifying an XOR dataset"
   ]
  },
  {
   "cell_type": "markdown",
   "id": "28c81d6a-a769-4102-a0a1-9eb73481615f",
   "metadata": {},
   "source": [
    "## Generate an XOR dataset"
   ]
  },
  {
   "cell_type": "code",
   "execution_count": null,
   "id": "ae9f41fb-7689-47a6-adc9-e294f9a82e1f",
   "metadata": {
    "tags": []
   },
   "outputs": [],
   "source": [
    "import numpy as np\n",
    "from sklearn import datasets\n",
    "import matplotlib.pyplot as plt\n",
    "\n",
    "c = np.array([[-3, -3], [-3, 3], [3, -3], [3, 3]])\n",
    "X, y = datasets.make_blobs(n_samples=1000,n_features=2,\n",
    "                           centers=c, cluster_std=1.1,\n",
    "                           random_state=123)\n",
    "\n",
    "y = np.where(np.sign(X[:,0]) == np.sign(X[:,1]), 0, 1)\n",
    "plt.scatter(X[y==0, 0], X[y==0, 1], marker='^')\n",
    "plt.scatter(X[y==1, 0], X[y==1, 1], marker='o')\n",
    "plt.xlabel(r'$x_1$')\n",
    "plt.ylabel(r'$x_2$')\n",
    "plt.show()"
   ]
  },
  {
   "cell_type": "markdown",
   "id": "1971af72-2916-408c-9b65-592e64d55a13",
   "metadata": {},
   "source": [
    "## Split data into: train, validation, test"
   ]
  },
  {
   "cell_type": "code",
   "execution_count": 2,
   "id": "4febd6b6-beca-4946-8a06-05aeaaca0be5",
   "metadata": {},
   "outputs": [],
   "source": [
    "from sklearn.model_selection import train_test_split\n",
    "\n",
    "X_train, X_test, y_train, y_test = train_test_split(\n",
    "    X, y, test_size=0.15, random_state=1, stratify=y)\n",
    "\n",
    "X_train, X_val, y_train, y_val = train_test_split(\n",
    "    X_train, y_train, test_size=0.1, random_state=1, stratify=y_train)"
   ]
  },
  {
   "cell_type": "code",
   "execution_count": null,
   "id": "7d9bc645-d4ce-401c-a8f0-3e18e450394e",
   "metadata": {},
   "outputs": [],
   "source": [
    "print(\"Training size:\", X_train.shape)\n",
    "print(\"Validation size :\", X_val.shape)\n",
    "print(\"Test size: \", X_test.shape)"
   ]
  },
  {
   "cell_type": "code",
   "execution_count": null,
   "id": "2c3ee01b-4dea-4b3b-9ffb-eb3ec2f7a13e",
   "metadata": {},
   "outputs": [],
   "source": [
    "import numpy as np\n",
    "\n",
    "print(\"Training labels:\", np.bincount(y_train))\n",
    "print(\"Validation labels:\", np.bincount(y_val))\n",
    "print(\"Test labels:\", np.bincount(y_test))"
   ]
  },
  {
   "cell_type": "markdown",
   "id": "efa56874-6ddc-4f33-8f32-cb8a055533a4",
   "metadata": {},
   "source": [
    "## Implement the model"
   ]
  },
  {
   "cell_type": "code",
   "execution_count": 5,
   "id": "e8667e04-cf9f-4076-9bc2-b7ddb078b503",
   "metadata": {},
   "outputs": [],
   "source": [
    "import torch\n",
    "\n",
    "class MLP(torch.nn.Module):\n",
    "    def __init__(self, num_features, num_classes):\n",
    "        super().__init__()\n",
    "\n",
    "        self.all_layers = torch.nn.Sequential(\n",
    "                \n",
    "            # 1st hidden layer\n",
    "            torch.nn.Linear(num_features, 30),\n",
    "            torch.nn.Sigmoid(),\n",
    "\n",
    "            # 2nd hidden layer\n",
    "            torch.nn.Linear(30, 20),\n",
    "            torch.nn.Sigmoid(),\n",
    "\n",
    "            # output layer\n",
    "            torch.nn.Linear(20, num_classes),\n",
    "        )\n",
    "\n",
    "    def forward(self, x):\n",
    "        logits = self.all_layers(x)\n",
    "        return logits"
   ]
  },
  {
   "cell_type": "markdown",
   "id": "5b9b9b9b-7acd-43e6-9cc9-de59f69303d9",
   "metadata": {},
   "source": [
    "## Dataloader"
   ]
  },
  {
   "cell_type": "code",
   "execution_count": 6,
   "id": "7b3853f2-30a7-44f0-aca3-f772e0f71487",
   "metadata": {},
   "outputs": [],
   "source": [
    "from torch.utils.data import Dataset, DataLoader\n",
    "\n",
    "class MyDataset(Dataset):\n",
    "    def __init__(self, X, y):\n",
    "\n",
    "        self.features = torch.tensor(X, dtype=torch.float32)\n",
    "        self.labels = torch.tensor(y, dtype=torch.int64)\n",
    "\n",
    "    def __getitem__(self, index):\n",
    "        x = self.features[index]\n",
    "        y = self.labels[index]        \n",
    "        return x, y\n",
    "\n",
    "    def __len__(self):\n",
    "        return self.labels.shape[0]\n",
    "\n",
    "train_ds = MyDataset(X_train, y_train)\n",
    "val_ds = MyDataset(X_val, y_val)\n",
    "test_ds = MyDataset(X_test, y_test)\n",
    "\n",
    "train_loader = DataLoader(\n",
    "    dataset=train_ds,\n",
    "    batch_size=32,\n",
    "    shuffle=True,\n",
    ")\n",
    "\n",
    "val_loader = DataLoader(\n",
    "    dataset=val_ds,\n",
    "    batch_size=32,\n",
    "    shuffle=False,\n",
    ")\n",
    "\n",
    "test_loader = DataLoader(\n",
    "    dataset=test_ds,\n",
    "    batch_size=32,\n",
    "    shuffle=False,\n",
    ")"
   ]
  },
  {
   "cell_type": "markdown",
   "id": "6c86b983-63e1-4de2-baa0-cef83c037c02",
   "metadata": {},
   "source": [
    "## Accuracy computation"
   ]
  },
  {
   "cell_type": "code",
   "execution_count": 7,
   "id": "8e67015a-6f50-4e83-a0e6-ed69dbeff550",
   "metadata": {},
   "outputs": [],
   "source": [
    "def compute_accuracy(model, dataloader):\n",
    "\n",
    "    model = model.eval()\n",
    "    \n",
    "    correct = 0.0\n",
    "    total_examples = 0\n",
    "    \n",
    "    for idx, (features, labels) in enumerate(dataloader):\n",
    "        \n",
    "        with torch.inference_mode(): # same as torch.no_grad\n",
    "            logits = model(features)\n",
    "        \n",
    "        predictions = torch.argmax(logits, dim=1)\n",
    "\n",
    "        compare = labels == predictions\n",
    "        correct += torch.sum(compare)\n",
    "        total_examples += len(compare)\n",
    "\n",
    "    return correct / total_examples"
   ]
  },
  {
   "cell_type": "markdown",
   "id": "492ed747",
   "metadata": {},
   "source": [
    "## Training loop"
   ]
  },
  {
   "cell_type": "code",
   "execution_count": null,
   "id": "c3b54460-701a-4225-9a9b-ad1518990ab5",
   "metadata": {},
   "outputs": [],
   "source": [
    "import torch.nn.functional as F\n",
    "\n",
    "torch.manual_seed(123)\n",
    "model = MLP(num_features=2, num_classes=2)\n",
    "optimizer = torch.optim.SGD(model.parameters(), lr=0.1) # Stochastic gradient descent\n",
    "\n",
    "num_epochs = 200\n",
    "\n",
    "for epoch in range(num_epochs):\n",
    "    \n",
    "    model = model.train()\n",
    "    for batch_idx, (features, labels) in enumerate(train_loader):\n",
    "\n",
    "        logits = model(features)\n",
    "        \n",
    "        loss = F.cross_entropy(logits, labels) # Loss function\n",
    "        \n",
    "        optimizer.zero_grad()\n",
    "        loss.backward()\n",
    "        optimizer.step()\n",
    "    \n",
    "        ### LOGGING\n",
    "#         print(f\"Epoch: {epoch+1:03d}/{num_epochs:03d}\"\n",
    "#               f\" | Batch {batch_idx:03d}/{len(train_loader):03d}\"\n",
    "#               f\" | Train/Val Loss: {loss:.2f}\")\n",
    "    \n",
    "    train_acc = compute_accuracy(model, train_loader)\n",
    "    val_acc = compute_accuracy(model, val_loader)\n",
    "    print(f\"Train Acc {train_acc*100:.2f}% | Val Acc {val_acc*100:.2f}%\")"
   ]
  },
  {
   "cell_type": "markdown",
   "id": "df54a1d8-f7ab-4e56-9101-c9b5f526a7d3",
   "metadata": {},
   "source": [
    "## Evaluating the accuracy"
   ]
  },
  {
   "cell_type": "code",
   "execution_count": null,
   "id": "85ac2135-ce50-49e5-ba59-bd454487cc3b",
   "metadata": {},
   "outputs": [],
   "source": [
    "train_acc = compute_accuracy(model, train_loader)\n",
    "val_acc = compute_accuracy(model, val_loader)\n",
    "test_acc = compute_accuracy(model, test_loader)\n",
    "\n",
    "print(f\"Train Acc {train_acc*100:.2f}%\")\n",
    "print(f\"Val Acc {val_acc*100:.2f}%\")\n",
    "print(f\"Test Acc {test_acc*100:.2f}%\")"
   ]
  },
  {
   "cell_type": "markdown",
   "id": "b8ce4646-2389-4138-b1b1-6cbfcf436082",
   "metadata": {},
   "source": [
    "## Decision boundary"
   ]
  },
  {
   "cell_type": "code",
   "execution_count": 10,
   "id": "de46f408-5272-4e9c-b9ca-c51f39f5319e",
   "metadata": {},
   "outputs": [],
   "source": [
    "from matplotlib.colors import ListedColormap\n",
    "import numpy as np\n",
    "\n",
    "def plot_decision_regions(X, y, classifier, resolution=0.02):\n",
    "\n",
    "    # setup marker generator and color map\n",
    "    markers = ['^', 'o', 'x', 's', 'v']\n",
    "    colors = ['C0', 'C1', 'C2', 'C3', 'C4']\n",
    "    cmap = ListedColormap(colors[:len(np.unique(y))])\n",
    "   \n",
    "    # plot the decision surface\n",
    "    x1_min, x1_max = X[:, 0].min() - 1, X[:, 0].max() + 1\n",
    "    x2_min, x2_max = X[:, 1].min() - 1, X[:, 1].max() + 1\n",
    "    xx1, xx2 = np.meshgrid(np.arange(x1_min, x1_max, resolution),\n",
    "                           np.arange(x2_min, x2_max, resolution))\n",
    "    tensor = torch.tensor(np.array([xx1.ravel(), xx2.ravel()]).T).float()\n",
    "    logits = classifier.forward(tensor)\n",
    "    Z = np.argmax(logits.detach().numpy(), axis=1)\n",
    "\n",
    "    Z = Z.reshape(xx1.shape)\n",
    "    plt.contourf(xx1, xx2, Z, alpha=0.4, cmap=cmap)\n",
    "    plt.xlim(xx1.min(), xx1.max())\n",
    "    plt.ylim(xx2.min(), xx2.max())\n",
    "\n",
    "    # plot class samples\n",
    "    for idx, cl in enumerate(np.unique(y)):\n",
    "        plt.scatter(x=X[y == cl, 0], y=X[y == cl, 1],\n",
    "                    alpha=0.8, color=cmap(idx),\n",
    "                    marker=markers[idx], \n",
    "                    label=cl)"
   ]
  },
  {
   "cell_type": "code",
   "execution_count": null,
   "id": "ec5a6d72-c1ee-4184-ba21-3241ba4d641a",
   "metadata": {},
   "outputs": [],
   "source": [
    "plot_decision_regions(X_train, y_train, classifier=model)"
   ]
  }
 ],
 "metadata": {
  "kernelspec": {
   "display_name": "Python 3 (ipykernel)",
   "language": "python",
   "name": "python3"
  },
  "language_info": {
   "codemirror_mode": {
    "name": "ipython",
    "version": 3
   },
   "file_extension": ".py",
   "mimetype": "text/x-python",
   "name": "python",
   "nbconvert_exporter": "python",
   "pygments_lexer": "ipython3",
   "version": "3.11.5"
  }
 },
 "nbformat": 4,
 "nbformat_minor": 5
}
