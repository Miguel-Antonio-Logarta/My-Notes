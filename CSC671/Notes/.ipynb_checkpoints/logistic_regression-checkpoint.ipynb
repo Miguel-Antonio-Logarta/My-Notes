{
 "cells": [
  {
   "cell_type": "markdown",
   "id": "c093955b-c9f6-45df-97b5-48e8be488f43",
   "metadata": {},
   "source": [
    "# 1. Generate data (you can generate your own data)"
   ]
  },
  {
   "cell_type": "code",
   "execution_count": 1,
   "id": "6c8371aa-040b-4563-9b60-2e439f854658",
   "metadata": {},
   "outputs": [],
   "source": [
    "from sklearn import datasets\n",
    "import numpy as np\n",
    "\n",
    "c = np.array([[3, 4], [6, 5]])\n",
    "X, y = datasets.make_blobs(n_samples=20,n_features=2,\n",
    "                           centers=c, cluster_std=1.3,\n",
    "                           random_state=727)"
   ]
  },
  {
   "cell_type": "code",
   "execution_count": 2,
   "id": "97f783d7-5496-4542-8adf-74f132c52d35",
   "metadata": {},
   "outputs": [],
   "source": [
    "with open(\"log_reg_data.txt\", \"w\") as f:\n",
    "    f.write(\"x1\\tx2\\tlabel\\n\")\n",
    "    for i in range(len(X)):\n",
    "        f.write(f'{X[i][0]:.2f}' + '\\t' + f'{X[i][1]:.2f}' + '\\t' + f'{y[i]}' +'\\n')"
   ]
  },
  {
   "cell_type": "markdown",
   "id": "359d2a28-dfd1-471d-9e24-b7f6eada8bbe",
   "metadata": {},
   "source": [
    "# 2. Load a dataset"
   ]
  },
  {
   "cell_type": "code",
   "execution_count": null,
   "id": "defda6a3-e59a-4593-b36f-b2aaa7b5620c",
   "metadata": {},
   "outputs": [],
   "source": [
    "import pandas as pd\n",
    "df = pd.read_csv(\"log_reg_data.txt\", sep='\\t') \n",
    "df.head()"
   ]
  },
  {
   "cell_type": "code",
   "execution_count": 4,
   "id": "94f44657-3468-42b8-9b1a-84bace4510ec",
   "metadata": {},
   "outputs": [],
   "source": [
    "X_train = df[[\"x1\", \"x2\"]].values\n",
    "y_train = df[\"label\"].values"
   ]
  },
  {
   "cell_type": "markdown",
   "id": "7d53d940-2b4b-4e81-b8ad-ee95bf64dc58",
   "metadata": {},
   "source": [
    "# 3. Plot the data"
   ]
  },
  {
   "cell_type": "code",
   "execution_count": 5,
   "id": "9a966413-6416-4fff-a79d-589c480628e6",
   "metadata": {},
   "outputs": [],
   "source": [
    "%matplotlib inline\n",
    "import matplotlib.pyplot as plt\n",
    "\n",
    "def plot_data(X_train):\n",
    "    plt.plot(X_train[y_train == 0, 0], X_train[y_train == 0, 1], '^', label=\"Class 0\")\n",
    "    plt.plot(X_train[y_train == 1, 0], X_train[y_train == 1, 1], 'o', label=\"Class 1\")\n",
    "    plt.ylim(-10,10)\n",
    "    plt.xlim(-10,10)\n",
    "    plt.xlabel(\"Feature $x_1$\")\n",
    "    plt.ylabel(\"Feature $x_2$\")\n",
    "    plt.legend(loc='upper left')\n",
    "    plt.grid()\n",
    "    plt.show()"
   ]
  },
  {
   "cell_type": "code",
   "execution_count": null,
   "id": "a10fe2f2-314e-4609-9829-82fd1345b7b7",
   "metadata": {},
   "outputs": [],
   "source": [
    "plot_data(X_train)"
   ]
  },
  {
   "cell_type": "markdown",
   "id": "258a44bc-5463-4e7b-bb64-94c17a30b795",
   "metadata": {},
   "source": [
    "# 4. Normalize the data"
   ]
  },
  {
   "cell_type": "code",
   "execution_count": null,
   "id": "1499b229-b7b4-4383-99a6-663920debd9e",
   "metadata": {},
   "outputs": [],
   "source": [
    "X_train.mean(axis=0)"
   ]
  },
  {
   "cell_type": "code",
   "execution_count": null,
   "id": "4eb20c24-ab18-40c2-a89a-aa8a10e12e06",
   "metadata": {},
   "outputs": [],
   "source": [
    "X_train.std(axis=0)"
   ]
  },
  {
   "cell_type": "code",
   "execution_count": 9,
   "id": "7fcd6038-0c81-44b0-919f-ed994bc7066c",
   "metadata": {},
   "outputs": [],
   "source": [
    "X_train = (X_train - X_train.mean(axis=0)) / X_train.std(axis=0)"
   ]
  },
  {
   "cell_type": "code",
   "execution_count": null,
   "id": "1a9f7f37-111d-4dd1-b34b-155a223d97af",
   "metadata": {},
   "outputs": [],
   "source": [
    "plot_data(X_train)"
   ]
  },
  {
   "cell_type": "markdown",
   "id": "4eb147f7-f131-4268-ae65-54e35d4bc002",
   "metadata": {},
   "source": [
    "# 5. Implementing Logistic Regression"
   ]
  },
  {
   "cell_type": "code",
   "execution_count": 11,
   "id": "a02780be-597a-41dd-aacf-dd77952a6556",
   "metadata": {},
   "outputs": [],
   "source": [
    "import torch\n",
    "\n",
    "class LogisticRegression(torch.nn.Module):\n",
    "    \n",
    "    def __init__(self, num_features):\n",
    "        super().__init__()\n",
    "        self.linear = torch.nn.Linear(num_features, 1)\n",
    "    \n",
    "    def forward(self, x):\n",
    "        logits = self.linear(x)\n",
    "        probabilities = torch.sigmoid(logits)\n",
    "        return probabilities"
   ]
  },
  {
   "cell_type": "code",
   "execution_count": 12,
   "id": "647b465c-96e8-49ce-9cec-c8dcb9ff705f",
   "metadata": {},
   "outputs": [],
   "source": [
    "torch.manual_seed(123)\n",
    "\n",
    "model = LogisticRegression(num_features=2)"
   ]
  },
  {
   "cell_type": "code",
   "execution_count": null,
   "id": "4cc84ce9-5ea5-40ba-9ffe-823988e5949d",
   "metadata": {},
   "outputs": [],
   "source": [
    "x = torch.tensor([1.1, 2.2])\n",
    "\n",
    "with torch.inference_mode():\n",
    "    probs = model(x)\n",
    "    \n",
    "print(probs)"
   ]
  },
  {
   "cell_type": "markdown",
   "id": "b8012aa1-9f1b-4a30-9154-0b9433841570",
   "metadata": {},
   "source": [
    "# 6. Defining a Dataloader"
   ]
  },
  {
   "cell_type": "code",
   "execution_count": 14,
   "id": "be59425c-c938-427d-943f-d5b53c09a5e2",
   "metadata": {},
   "outputs": [],
   "source": [
    "from torch.utils.data import Dataset, DataLoader\n",
    "\n",
    "\n",
    "class MyDataset(Dataset):\n",
    "    def __init__(self, X, y):\n",
    "        self.features = torch.tensor(X, dtype=torch.float32)\n",
    "        self.labels = torch.tensor(y, dtype=torch.float32)\n",
    "\n",
    "    def __getitem__(self, index):\n",
    "        x = self.features[index]\n",
    "        y = self.labels[index]        \n",
    "        return x, y\n",
    "\n",
    "    def __len__(self):\n",
    "        return self.labels.shape[0]\n",
    "    \n",
    "\n",
    "train_data_set = MyDataset(X_train, y_train)\n",
    "\n",
    "train_loader = DataLoader(\n",
    "    dataset=train_data_set,\n",
    "    batch_size=4,\n",
    "    shuffle=True,\n",
    ")"
   ]
  },
  {
   "cell_type": "markdown",
   "id": "020d1993-cc9e-421a-a1f4-e942c3ec0caf",
   "metadata": {},
   "source": [
    "# 7. Training loop"
   ]
  },
  {
   "cell_type": "code",
   "execution_count": null,
   "id": "3489e4f9-d381-4a0e-9d3e-a604492620ed",
   "metadata": {},
   "outputs": [],
   "source": [
    "import torch.nn.functional as F\n",
    "\n",
    "torch.manual_seed(123)\n",
    "model = LogisticRegression(num_features=2)\n",
    "optimizer = torch.optim.SGD(model.parameters(), lr=0.05)\n",
    "\n",
    "num_epochs = 20\n",
    "\n",
    "for epoch in range(num_epochs):\n",
    "    \n",
    "    model = model.train()\n",
    "    for batch_idx, (features, class_labels) in enumerate(train_loader):\n",
    "\n",
    "        probabilities = model(features)\n",
    "        \n",
    "        loss = F.binary_cross_entropy(probabilities, class_labels.view(probabilities.shape))\n",
    "        \n",
    "        optimizer.zero_grad()\n",
    "        loss.backward()\n",
    "        optimizer.step()\n",
    "        \n",
    "        ### Print current state\n",
    "        print(f'Epoch: {epoch+1:03d}/{num_epochs:03d}'\n",
    "               f' | Batch {batch_idx+1:03d}/{len(train_loader):03d}'\n",
    "               f' | Loss: {loss:.2f}')"
   ]
  },
  {
   "cell_type": "markdown",
   "id": "7266af31-23c6-4cf9-baa3-e2f11c15da7d",
   "metadata": {},
   "source": [
    "# 8. Decision boundary"
   ]
  },
  {
   "cell_type": "code",
   "execution_count": 16,
   "id": "7494edce-6737-4f2d-bc2d-e75f676eacad",
   "metadata": {},
   "outputs": [],
   "source": [
    "import time\n",
    "import pylab as pl\n",
    "from IPython import display\n",
    "\n",
    "def f(x, w1, w2, b):\n",
    "    return (-b - (w1 * x) ) / w2"
   ]
  },
  {
   "cell_type": "code",
   "execution_count": 17,
   "id": "9b6eb659-47e9-4422-984a-14bab666765a",
   "metadata": {},
   "outputs": [],
   "source": [
    "def plot_image(X, y, w1, w2, b):\n",
    "    pl.clf()\n",
    "    ax = fig.add_subplot()\n",
    "    ax.set_xlim(-10, 10)\n",
    "    ax.set_ylim(-10, 10)\n",
    "    pl.plot(X[:, 0][y == 0], X[:,1][y==0], '^')\n",
    "    pl.plot(X[:, 0][y == 1], X[:,1][y==1], 'o')\n",
    "    ax.set_xlabel(\"feature 1\")\n",
    "    ax.set_ylabel(\"feature 2\")\n",
    "    ax.set_title(f'Epoch {epoch}, Iteration {i}')\n",
    "    if w2:\n",
    "        pl.axline((1, f(1, w1, w2, b)), (2, f(2, w1, w2, b)), color='k', ls='--')\n",
    "    display.clear_output(wait=True)\n",
    "    display.display(pl.gcf())\n",
    "    #time.sleep(0.2)    "
   ]
  },
  {
   "cell_type": "code",
   "execution_count": null,
   "id": "3c126cdd-1ad4-4564-adbd-e93ea6095672",
   "metadata": {},
   "outputs": [],
   "source": [
    "import torch.nn.functional as F\n",
    "\n",
    "torch.manual_seed(123)\n",
    "model = LogisticRegression(num_features=2)\n",
    "optimizer = torch.optim.SGD(model.parameters(), lr=0.05)\n",
    "\n",
    "num_epochs = 100\n",
    "\n",
    "\n",
    "fig = plt.figure(figsize=(5,5))\n",
    "\n",
    "for epoch in range(num_epochs):\n",
    "    \n",
    "    model = model.train()\n",
    "    for batch_idx, (features, class_labels) in enumerate(train_loader):\n",
    "\n",
    "        probabilities = model(features)\n",
    "        \n",
    "        loss = F.binary_cross_entropy(probabilities, class_labels.view(probabilities.shape))\n",
    "        \n",
    "        optimizer.zero_grad()\n",
    "        loss.backward()\n",
    "        optimizer.step()\n",
    "        \n",
    "        plot_image(X_train, y_train, model.linear.weight[0][0].item(), model.linear.weight[0][1].item(), \n",
    "           model.linear.bias.item()) \n",
    "\n",
    "\n",
    "        ### Print current state\n",
    "        print(f'Epoch: {epoch+1:03d}/{num_epochs:03d}'\n",
    "               f' | Batch {batch_idx+1:03d}/{len(train_loader):03d}'\n",
    "               f' | Loss: {loss:.2f}')\n"
   ]
  },
  {
   "cell_type": "code",
   "execution_count": null,
   "id": "2f2437c1",
   "metadata": {},
   "outputs": [],
   "source": []
  },
  {
   "cell_type": "code",
   "execution_count": null,
   "id": "5fd3f489",
   "metadata": {},
   "outputs": [],
   "source": []
  }
 ],
 "metadata": {
  "kernelspec": {
   "display_name": "Python 3 (ipykernel)",
   "language": "python",
   "name": "python3"
  },
  "language_info": {
   "codemirror_mode": {
    "name": "ipython",
    "version": 3
   },
   "file_extension": ".py",
   "mimetype": "text/x-python",
   "name": "python",
   "nbconvert_exporter": "python",
   "pygments_lexer": "ipython3",
   "version": "3.11.5"
  }
 },
 "nbformat": 4,
 "nbformat_minor": 5
}
