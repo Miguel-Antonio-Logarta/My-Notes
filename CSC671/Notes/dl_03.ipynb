{
 "cells": [
  {
   "cell_type": "code",
   "execution_count": null,
   "metadata": {},
   "outputs": [],
   "source": [
    "class Perceptron:\n",
    "    def __init__(self, num_features):\n",
    "        self.weights = [0.0 for _ in range(num_features)]\n",
    "        self.bias = 0.0\n",
    "\n",
    "    def forward(self, x):\n",
    "        z_weighted_sum = self.bias\n",
    "        for i, _ in enumerate(self.weights):\n",
    "            z_weighted_sum += x[i] * self.weights[i]\n",
    "\n",
    "        if z_weighted_sum > 0.0:\n",
    "            prediction = 1\n",
    "        else:\n",
    "            prediction = 0\n",
    "        \n",
    "        return prediction\n",
    "    \n",
    "    def update(self, x, true_y):\n",
    "        y_hat = self.forward(x)\n",
    "        error = true_y - y_hat\n",
    "\n",
    "        self.bias += error\n",
    "        for i, _ in enumerate(self.weights):\n",
    "            self.weights[i] += error * [i]\n",
    "\n",
    "        return error"
   ]
  }
 ],
 "metadata": {
  "language_info": {
   "name": "python"
  }
 },
 "nbformat": 4,
 "nbformat_minor": 2
}
