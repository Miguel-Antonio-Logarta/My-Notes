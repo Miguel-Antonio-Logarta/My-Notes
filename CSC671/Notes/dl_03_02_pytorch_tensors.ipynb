{
 "cells": [
  {
   "cell_type": "markdown",
   "id": "01364054-54e3-4eeb-9dc5-1fcab8d79d7c",
   "metadata": {
    "tags": []
   },
   "source": [
    "## Tensors Examples"
   ]
  },
  {
   "cell_type": "code",
   "execution_count": 3,
   "id": "57f7df2f-4cea-4259-b453-f724b4069e33",
   "metadata": {},
   "outputs": [
    {
     "name": "stdout",
     "output_type": "stream",
     "text": [
      "tensor(1.)\n"
     ]
    }
   ],
   "source": [
    "import torch\n",
    "\n",
    "a = torch.tensor(1.)\n",
    "print(a)"
   ]
  },
  {
   "cell_type": "code",
   "execution_count": 2,
   "id": "c0782fe3-88e4-4090-85a4-90b2ad9cab11",
   "metadata": {},
   "outputs": [
    {
     "name": "stdout",
     "output_type": "stream",
     "text": [
      "1.0\n"
     ]
    }
   ],
   "source": [
    "b = 1.\n",
    "print(b)"
   ]
  },
  {
   "cell_type": "code",
   "execution_count": 3,
   "id": "f2a08e7f-0f3a-4e51-a664-0be54fd9afb6",
   "metadata": {},
   "outputs": [
    {
     "name": "stdout",
     "output_type": "stream",
     "text": [
      "torch.Size([])\n"
     ]
    }
   ],
   "source": [
    "print(a.shape)"
   ]
  },
  {
   "cell_type": "markdown",
   "id": "57c3dab2-5c44-41c3-a126-7d41fc6fb866",
   "metadata": {},
   "source": [
    "## Rank 1 Tensor, Vectors"
   ]
  },
  {
   "cell_type": "code",
   "execution_count": 4,
   "id": "402bd79c-b7a7-4f5d-84cf-50740c832889",
   "metadata": {},
   "outputs": [
    {
     "name": "stdout",
     "output_type": "stream",
     "text": [
      "[1.0, 2.0, 3.0]\n"
     ]
    }
   ],
   "source": [
    "b = [1., 2., 3.]\n",
    "print(b)"
   ]
  },
  {
   "cell_type": "code",
   "execution_count": 5,
   "id": "e0b492c0-6691-4797-b326-0f9c3c8bf4df",
   "metadata": {},
   "outputs": [
    {
     "name": "stdout",
     "output_type": "stream",
     "text": [
      "tensor([1., 2., 3.])\n"
     ]
    }
   ],
   "source": [
    "a = torch.tensor([1., 2., 3.])\n",
    "print(a)"
   ]
  },
  {
   "cell_type": "code",
   "execution_count": 6,
   "id": "abf7f2bf-cdd2-4703-abe5-390be6111611",
   "metadata": {},
   "outputs": [
    {
     "name": "stdout",
     "output_type": "stream",
     "text": [
      "torch.Size([3])\n"
     ]
    }
   ],
   "source": [
    "print(a.shape)"
   ]
  },
  {
   "cell_type": "code",
   "execution_count": 7,
   "id": "e4aaa17d-24f7-4204-b4cf-d652919000ed",
   "metadata": {},
   "outputs": [
    {
     "name": "stdout",
     "output_type": "stream",
     "text": [
      "<built-in method size of Tensor object at 0x1345b4730>\n"
     ]
    }
   ],
   "source": [
    "print(a.size)"
   ]
  },
  {
   "cell_type": "markdown",
   "id": "39fc1c2a-4968-40e7-b3f2-a6fc09e44827",
   "metadata": {},
   "source": [
    "## Rank 2 Tensor, Matrix"
   ]
  },
  {
   "cell_type": "code",
   "execution_count": 8,
   "id": "9646266e-5b35-4c0c-aaff-78f30f04910b",
   "metadata": {},
   "outputs": [
    {
     "name": "stdout",
     "output_type": "stream",
     "text": [
      "tensor([[1., 2., 3.],\n",
      "        [4., 5., 6.]])\n"
     ]
    }
   ],
   "source": [
    "a = torch.tensor([[1., 2., 3.], [4., 5., 6.]])\n",
    "print(a)"
   ]
  },
  {
   "cell_type": "code",
   "execution_count": 9,
   "id": "92ba8149-14d5-479c-8e9b-74bbf2359a42",
   "metadata": {},
   "outputs": [
    {
     "name": "stdout",
     "output_type": "stream",
     "text": [
      "torch.Size([2, 3])\n"
     ]
    }
   ],
   "source": [
    "print(a.shape)"
   ]
  },
  {
   "cell_type": "code",
   "execution_count": 10,
   "id": "1c102dc8-d9a2-44a8-bb21-e0dee8ef5eaf",
   "metadata": {},
   "outputs": [
    {
     "data": {
      "text/plain": [
       "torch.Size([2, 3])"
      ]
     },
     "execution_count": 10,
     "metadata": {},
     "output_type": "execute_result"
    }
   ],
   "source": [
    "a.shape"
   ]
  },
  {
   "cell_type": "code",
   "execution_count": 11,
   "id": "9da1177b-6140-4972-880a-5cefb43c1008",
   "metadata": {},
   "outputs": [
    {
     "data": {
      "text/plain": [
       "<function Tensor.dim>"
      ]
     },
     "execution_count": 11,
     "metadata": {},
     "output_type": "execute_result"
    }
   ],
   "source": [
    "a.dim"
   ]
  },
  {
   "cell_type": "markdown",
   "id": "3955b08a-88e4-4950-acb6-d9e94de92ddd",
   "metadata": {},
   "source": [
    "## 3D Tensor"
   ]
  },
  {
   "cell_type": "code",
   "execution_count": 12,
   "id": "d46692b5-971e-4220-bd17-4bd05c4b283b",
   "metadata": {},
   "outputs": [
    {
     "name": "stdout",
     "output_type": "stream",
     "text": [
      "tensor([[[ 1.,  2.,  3.],\n",
      "         [ 4.,  5.,  6.]],\n",
      "\n",
      "        [[ 7.,  8.,  9.],\n",
      "         [10., 11., 12.]]])\n"
     ]
    }
   ],
   "source": [
    "a = torch.tensor([[[1., 2., 3.],\n",
    "                   [4., 5., 6.]],\n",
    "                  [[7., 8., 9.],\n",
    "                   [10., 11., 12.]]])\n",
    "print(a)"
   ]
  },
  {
   "cell_type": "code",
   "execution_count": 13,
   "id": "3c319be4-5820-420d-9120-41f244221505",
   "metadata": {},
   "outputs": [
    {
     "data": {
      "text/plain": [
       "torch.Size([2, 2, 3])"
      ]
     },
     "execution_count": 13,
     "metadata": {},
     "output_type": "execute_result"
    }
   ],
   "source": [
    "a.shape"
   ]
  },
  {
   "cell_type": "markdown",
   "id": "99002547-d3ae-46de-bdfd-11950153cefe",
   "metadata": {},
   "source": [
    "## 4D Tensor"
   ]
  },
  {
   "cell_type": "code",
   "execution_count": 14,
   "id": "20c5cec3-8547-4d32-88d7-9ff413205056",
   "metadata": {},
   "outputs": [
    {
     "name": "stdout",
     "output_type": "stream",
     "text": [
      "tensor([[[[ 1.,  2.,  3.],\n",
      "          [ 4.,  5.,  6.]],\n",
      "\n",
      "         [[ 7.,  8.,  9.],\n",
      "          [10., 11., 12.]]],\n",
      "\n",
      "\n",
      "        [[[13., 14., 15.],\n",
      "          [16., 17., 28.]],\n",
      "\n",
      "         [[19., 20., 21.],\n",
      "          [22., 23., 24.]]]])\n"
     ]
    }
   ],
   "source": [
    "a = torch.tensor([[[[1., 2., 3.],\n",
    "                   [4., 5., 6.]],\n",
    "                  [[7., 8., 9.],\n",
    "                   [10., 11., 12.]]],\n",
    "                  [[[13., 14., 15.],\n",
    "                   [16., 17., 28.]],\n",
    "                  [[19., 20., 21.],\n",
    "                   [22., 23., 24.]]]])\n",
    "print(a)"
   ]
  },
  {
   "cell_type": "code",
   "execution_count": null,
   "id": "8b969105-5812-4624-9354-67167738aab8",
   "metadata": {},
   "outputs": [],
   "source": [
    "a.shape"
   ]
  },
  {
   "cell_type": "markdown",
   "id": "eaeb2dee-1a73-47fb-a3d4-9b0ae133c4ab",
   "metadata": {},
   "source": [
    "# Useful Tensor Functions"
   ]
  },
  {
   "cell_type": "markdown",
   "id": "79c3f3b8-b993-49ca-a188-b3d25c811666",
   "metadata": {},
   "source": [
    "## 1) Creating a tensor"
   ]
  },
  {
   "cell_type": "code",
   "execution_count": 15,
   "id": "5bbc3d15-6e93-4da7-acce-fb28ec0e8f79",
   "metadata": {},
   "outputs": [],
   "source": [
    "t = torch.tensor([[1., 2., 3.], [4., 5., 6.]])"
   ]
  },
  {
   "cell_type": "markdown",
   "id": "30b603e3-9116-4504-a5bc-66c57df92a53",
   "metadata": {},
   "source": [
    "## 2) Check the shape"
   ]
  },
  {
   "cell_type": "code",
   "execution_count": 16,
   "id": "c1e252c4-6b1e-42de-b9bf-5caccb67c947",
   "metadata": {},
   "outputs": [
    {
     "name": "stdout",
     "output_type": "stream",
     "text": [
      "tensor([[1., 2., 3.],\n",
      "        [4., 5., 6.]])\n"
     ]
    }
   ],
   "source": [
    "print(t)"
   ]
  },
  {
   "cell_type": "code",
   "execution_count": 17,
   "id": "3ef693cf-2aa3-47d0-8fd8-53aa008f0589",
   "metadata": {},
   "outputs": [
    {
     "name": "stdout",
     "output_type": "stream",
     "text": [
      "torch.Size([2, 3])\n"
     ]
    }
   ],
   "source": [
    "print(t.shape)"
   ]
  },
  {
   "cell_type": "markdown",
   "id": "97237c37-8494-4853-bcb5-10386485960b",
   "metadata": {},
   "source": [
    "## 3) Check the rank, or number of dimensions"
   ]
  },
  {
   "cell_type": "code",
   "execution_count": 18,
   "id": "fa289cc4-959e-4dba-870a-e3cfea8e9d6c",
   "metadata": {},
   "outputs": [
    {
     "name": "stdout",
     "output_type": "stream",
     "text": [
      "2\n"
     ]
    }
   ],
   "source": [
    "print(t.ndim)"
   ]
  },
  {
   "cell_type": "markdown",
   "id": "17efd94d-5126-462b-b0fe-05511e92a20b",
   "metadata": {},
   "source": [
    "## 4) Check the data type"
   ]
  },
  {
   "cell_type": "code",
   "execution_count": 19,
   "id": "37684cf7-290f-4726-9860-25c61b227e8f",
   "metadata": {},
   "outputs": [
    {
     "name": "stdout",
     "output_type": "stream",
     "text": [
      "torch.float32\n"
     ]
    }
   ],
   "source": [
    "print(t.dtype)"
   ]
  },
  {
   "cell_type": "code",
   "execution_count": 20,
   "id": "975fabdf-8e88-4fe5-a84e-bc43a2dd4039",
   "metadata": {},
   "outputs": [],
   "source": [
    "a = torch.tensor([[1, 2, 3], [4, 5, 6]]) "
   ]
  },
  {
   "cell_type": "code",
   "execution_count": 21,
   "id": "fc6f2bb6-9887-4957-9781-d784ca34a9cd",
   "metadata": {},
   "outputs": [
    {
     "name": "stdout",
     "output_type": "stream",
     "text": [
      "torch.int64\n"
     ]
    }
   ],
   "source": [
    "print(a.dtype)"
   ]
  },
  {
   "cell_type": "markdown",
   "id": "579bdecd-ea13-4b3d-a129-06c117517fe3",
   "metadata": {},
   "source": [
    "## 5) Convert numpy array to tensor"
   ]
  },
  {
   "cell_type": "code",
   "execution_count": 22,
   "id": "e26d5274-52ce-481b-9259-7d48bbba9b22",
   "metadata": {},
   "outputs": [
    {
     "name": "stdout",
     "output_type": "stream",
     "text": [
      "[1. 2. 3.]\n",
      "tensor([1., 2., 3.], dtype=torch.float64)\n",
      "tensor([1., 2., 3.], dtype=torch.float64)\n"
     ]
    }
   ],
   "source": [
    "import numpy as np\n",
    "np_array = np.array([1., 2., 3.])\n",
    "t1 = torch.from_numpy(np_array)\n",
    "t2 = torch.tensor(np_array)\n",
    "# t and np_array share the same memory\n",
    "print(np_array)\n",
    "print(t1)\n",
    "print(t2)"
   ]
  },
  {
   "cell_type": "code",
   "execution_count": 23,
   "id": "ce7592e9-d3ec-4e67-9f34-7a2766bc1056",
   "metadata": {},
   "outputs": [],
   "source": [
    "t1[2] = 10."
   ]
  },
  {
   "cell_type": "code",
   "execution_count": 24,
   "id": "90212773-b804-493d-af89-61282a38f8e2",
   "metadata": {},
   "outputs": [
    {
     "name": "stdout",
     "output_type": "stream",
     "text": [
      "tensor([ 1.,  2., 10.], dtype=torch.float64)\n"
     ]
    }
   ],
   "source": [
    "print(t1)"
   ]
  },
  {
   "cell_type": "code",
   "execution_count": 25,
   "id": "9ffc3bf6-fe8a-4c4e-a022-ea67c5615871",
   "metadata": {},
   "outputs": [
    {
     "name": "stdout",
     "output_type": "stream",
     "text": [
      "[ 1.  2. 10.]\n"
     ]
    }
   ],
   "source": [
    "print(np_array)"
   ]
  },
  {
   "cell_type": "code",
   "execution_count": 26,
   "id": "a7ed1a3a-767d-4d5e-babb-f71ea5669e9b",
   "metadata": {},
   "outputs": [
    {
     "name": "stdout",
     "output_type": "stream",
     "text": [
      "tensor([1., 2., 3.], dtype=torch.float64)\n"
     ]
    }
   ],
   "source": [
    "print(t2)"
   ]
  },
  {
   "cell_type": "code",
   "execution_count": 27,
   "id": "6b625e18-bf3e-45c7-93a5-aba86286a321",
   "metadata": {},
   "outputs": [],
   "source": [
    "t2[0] = 20."
   ]
  },
  {
   "cell_type": "code",
   "execution_count": 28,
   "id": "39903070-50f6-454c-8768-a7c479c9b41a",
   "metadata": {},
   "outputs": [
    {
     "name": "stdout",
     "output_type": "stream",
     "text": [
      "tensor([20.,  2.,  3.], dtype=torch.float64)\n"
     ]
    }
   ],
   "source": [
    "print(t2)"
   ]
  },
  {
   "cell_type": "code",
   "execution_count": 29,
   "id": "23fc99d3-7700-4164-8949-b175b8a87810",
   "metadata": {},
   "outputs": [
    {
     "name": "stdout",
     "output_type": "stream",
     "text": [
      "tensor([ 1.,  2., 10.], dtype=torch.float64)\n",
      "[ 1.  2. 10.]\n"
     ]
    }
   ],
   "source": [
    "print(t1)\n",
    "print(np_array)"
   ]
  },
  {
   "cell_type": "markdown",
   "id": "88f0ee76-6bb1-4ba0-8cb6-07c74bf8e171",
   "metadata": {},
   "source": [
    "## 6) Change data type"
   ]
  },
  {
   "cell_type": "code",
   "execution_count": 30,
   "id": "49e3e792-cb36-4074-9003-4a15a4ecc0d5",
   "metadata": {},
   "outputs": [
    {
     "name": "stdout",
     "output_type": "stream",
     "text": [
      "torch.float64\n"
     ]
    }
   ],
   "source": [
    "print(t1.dtype)"
   ]
  },
  {
   "cell_type": "code",
   "execution_count": 31,
   "id": "0b165c31-4b9b-4235-b45a-af3b9a6584a8",
   "metadata": {},
   "outputs": [],
   "source": [
    "t1 = t1.to(torch.float32)"
   ]
  },
  {
   "cell_type": "code",
   "execution_count": 32,
   "id": "8f346eee-9887-4200-8fd7-733db9951697",
   "metadata": {},
   "outputs": [
    {
     "name": "stdout",
     "output_type": "stream",
     "text": [
      "torch.float32\n"
     ]
    }
   ],
   "source": [
    "print(t1.dtype)"
   ]
  },
  {
   "cell_type": "markdown",
   "id": "663add86-2ba1-4eff-918a-cbb2a1194e2a",
   "metadata": {},
   "source": [
    "## 7) Check the device type"
   ]
  },
  {
   "cell_type": "code",
   "execution_count": 33,
   "id": "2dc8903c-2665-4d9d-b6e7-e760be1986c1",
   "metadata": {},
   "outputs": [
    {
     "data": {
      "text/plain": [
       "device(type='cpu')"
      ]
     },
     "execution_count": 33,
     "metadata": {},
     "output_type": "execute_result"
    }
   ],
   "source": [
    "t1.device"
   ]
  },
  {
   "cell_type": "code",
   "execution_count": 34,
   "id": "a73f1d9a-ecfa-4b5d-83d3-326142af3580",
   "metadata": {},
   "outputs": [
    {
     "data": {
      "text/plain": [
       "False"
      ]
     },
     "execution_count": 34,
     "metadata": {},
     "output_type": "execute_result"
    }
   ],
   "source": [
    "torch.cuda.is_available()"
   ]
  },
  {
   "cell_type": "markdown",
   "id": "59ed9381-ed44-49e9-afe1-f896e2d5e655",
   "metadata": {},
   "source": [
    "## 8) Change tensor shape"
   ]
  },
  {
   "cell_type": "code",
   "execution_count": 35,
   "id": "163bc879-86c8-41d8-a052-6d9ed8ab4852",
   "metadata": {},
   "outputs": [
    {
     "name": "stdout",
     "output_type": "stream",
     "text": [
      "tensor([[1., 2., 3.],\n",
      "        [4., 5., 6.]])\n"
     ]
    }
   ],
   "source": [
    "a = torch.tensor([[1., 2., 3.],\n",
    "                  [4., 5., 6.]])\n",
    "print(a)"
   ]
  },
  {
   "cell_type": "code",
   "execution_count": 36,
   "id": "26fc55c0-6b8d-43a7-909f-089c0b81b06e",
   "metadata": {},
   "outputs": [
    {
     "name": "stdout",
     "output_type": "stream",
     "text": [
      "tensor([[1., 2.],\n",
      "        [3., 4.],\n",
      "        [5., 6.]])\n"
     ]
    }
   ],
   "source": [
    "print(a.view(3,2))"
   ]
  },
  {
   "cell_type": "code",
   "execution_count": 37,
   "id": "27f3a4bd-92b7-49da-9ddd-56a9cf4bd54f",
   "metadata": {},
   "outputs": [
    {
     "name": "stdout",
     "output_type": "stream",
     "text": [
      "tensor([[1., 2.],\n",
      "        [3., 4.],\n",
      "        [5., 6.]])\n"
     ]
    }
   ],
   "source": [
    "print(a.view(-1,2))"
   ]
  },
  {
   "cell_type": "code",
   "execution_count": 38,
   "id": "43428f7c-319d-49b0-8385-cdc4a4dd692a",
   "metadata": {},
   "outputs": [
    {
     "name": "stdout",
     "output_type": "stream",
     "text": [
      "tensor([[1., 2.],\n",
      "        [3., 4.],\n",
      "        [5., 6.]])\n"
     ]
    }
   ],
   "source": [
    "print(a.view(3,-1))"
   ]
  },
  {
   "cell_type": "markdown",
   "id": "5195ee85-551c-4ff9-b7f3-84bd1a01c10e",
   "metadata": {},
   "source": [
    "## 9) Transpose a tensor"
   ]
  },
  {
   "cell_type": "code",
   "execution_count": 39,
   "id": "c732fd41-3f13-40f5-8110-8edfb91d26f3",
   "metadata": {},
   "outputs": [
    {
     "name": "stdout",
     "output_type": "stream",
     "text": [
      "tensor([[1., 2., 3.],\n",
      "        [4., 5., 6.]])\n"
     ]
    }
   ],
   "source": [
    "a = torch.tensor([[1., 2., 3.],\n",
    "                  [4., 5., 6.]])\n",
    "print(a)"
   ]
  },
  {
   "cell_type": "code",
   "execution_count": 40,
   "id": "6c95e783-7a71-46ec-ac7a-ce86abc504a7",
   "metadata": {},
   "outputs": [
    {
     "name": "stdout",
     "output_type": "stream",
     "text": [
      "tensor([[1., 4.],\n",
      "        [2., 5.],\n",
      "        [3., 6.]])\n"
     ]
    }
   ],
   "source": [
    "print(a.T)"
   ]
  },
  {
   "cell_type": "code",
   "execution_count": 41,
   "id": "5f9ffaf0-1762-48bf-b816-870f5177eb39",
   "metadata": {},
   "outputs": [
    {
     "name": "stdout",
     "output_type": "stream",
     "text": [
      "tensor([[[ 1.,  2.,  3.],\n",
      "         [ 4.,  5.,  6.]],\n",
      "\n",
      "        [[ 7.,  8.,  9.],\n",
      "         [10., 11., 12.]]])\n"
     ]
    }
   ],
   "source": [
    "b = torch.tensor([[[1., 2., 3.],\n",
    "                  [4., 5., 6.]],\n",
    "                  [[7., 8., 9.],\n",
    "                   [10., 11., 12.]]])\n",
    "print(b)"
   ]
  },
  {
   "cell_type": "code",
   "execution_count": 42,
   "id": "44ea18d7-7c52-4a55-83b2-9b176cfec4ba",
   "metadata": {},
   "outputs": [
    {
     "name": "stdout",
     "output_type": "stream",
     "text": [
      "tensor([[[ 1.,  4.],\n",
      "         [ 2.,  5.],\n",
      "         [ 3.,  6.]],\n",
      "\n",
      "        [[ 7., 10.],\n",
      "         [ 8., 11.],\n",
      "         [ 9., 12.]]])\n"
     ]
    }
   ],
   "source": [
    "print(b.mT)"
   ]
  },
  {
   "cell_type": "markdown",
   "id": "65b2697a-4dac-459f-b385-ffcc2f4458e7",
   "metadata": {},
   "source": [
    "## 10) Multiplying matrices"
   ]
  },
  {
   "cell_type": "code",
   "execution_count": 4,
   "id": "193437c8-8cc4-4c96-a392-4921315dd46b",
   "metadata": {},
   "outputs": [],
   "source": [
    "a = torch.tensor([[1., 2., 3.],\n",
    "                  [4., 5., 6.]])\n",
    "b = torch.tensor([[2., 3., 4.],\n",
    "                  [5., 6., 7.],\n",
    "                  [8., 9., 10]])"
   ]
  },
  {
   "cell_type": "code",
   "execution_count": 44,
   "id": "a5cf8b9b-0509-4027-8825-29373763c71c",
   "metadata": {},
   "outputs": [
    {
     "data": {
      "text/plain": [
       "tensor([[ 20.,  38.,  56.],\n",
       "        [ 47.,  92., 137.]])"
      ]
     },
     "execution_count": 44,
     "metadata": {},
     "output_type": "execute_result"
    }
   ],
   "source": [
    "a.matmul(b.T)"
   ]
  },
  {
   "cell_type": "code",
   "execution_count": null,
   "id": "2176b727-3b07-4e3e-9170-5f50782657d0",
   "metadata": {},
   "outputs": [],
   "source": []
  },
  {
   "cell_type": "code",
   "execution_count": 45,
   "id": "60cf33ed-6945-4504-9a1a-3b75abb2875a",
   "metadata": {},
   "outputs": [],
   "source": [
    "import torch\n",
    "a = torch.tensor([[1.,2.], [3.,4.]])\n",
    "b = torch.tensor([10.,20.])"
   ]
  },
  {
   "cell_type": "code",
   "execution_count": 46,
   "id": "b7c686b0-d57a-41e6-b92b-01159bf6ff8a",
   "metadata": {},
   "outputs": [
    {
     "data": {
      "text/plain": [
       "tensor([[1., 2.],\n",
       "        [3., 4.]])"
      ]
     },
     "execution_count": 46,
     "metadata": {},
     "output_type": "execute_result"
    }
   ],
   "source": [
    "a"
   ]
  },
  {
   "cell_type": "code",
   "execution_count": 47,
   "id": "e3c02667-27b9-4142-9db1-c4816ea9220c",
   "metadata": {},
   "outputs": [
    {
     "data": {
      "text/plain": [
       "tensor([10., 20.])"
      ]
     },
     "execution_count": 47,
     "metadata": {},
     "output_type": "execute_result"
    }
   ],
   "source": [
    "b"
   ]
  },
  {
   "cell_type": "code",
   "execution_count": 48,
   "id": "4bccd1ec-c0ef-4474-b82a-5751c0244eec",
   "metadata": {},
   "outputs": [
    {
     "data": {
      "text/plain": [
       "tensor([[11., 22.],\n",
       "        [13., 24.]])"
      ]
     },
     "execution_count": 48,
     "metadata": {},
     "output_type": "execute_result"
    }
   ],
   "source": [
    "a+b"
   ]
  },
  {
   "cell_type": "code",
   "execution_count": null,
   "id": "71f117cb-d48a-45db-a8b2-c305004040b8",
   "metadata": {},
   "outputs": [],
   "source": []
  }
 ],
 "metadata": {
  "kernelspec": {
   "display_name": "Python 3 (ipykernel)",
   "language": "python",
   "name": "python3"
  },
  "language_info": {
   "codemirror_mode": {
    "name": "ipython",
    "version": 3
   },
   "file_extension": ".py",
   "mimetype": "text/x-python",
   "name": "python",
   "nbconvert_exporter": "python",
   "pygments_lexer": "ipython3",
   "version": "3.10.12"
  }
 },
 "nbformat": 4,
 "nbformat_minor": 5
}
